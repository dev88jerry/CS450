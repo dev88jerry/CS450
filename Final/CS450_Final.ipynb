{
  "nbformat": 4,
  "nbformat_minor": 0,
  "metadata": {
    "colab": {
      "provenance": []
    },
    "kernelspec": {
      "name": "python3",
      "display_name": "Python 3"
    },
    "language_info": {
      "name": "python"
    }
  },
  "cells": [
    {
      "cell_type": "markdown",
      "source": [
        "# CS450 Final\n",
        "\n",
        "Katya Griffiths-Julien\n",
        "\n",
        "Jerry Lau"
      ],
      "metadata": {
        "id": "Bhm9NDKTk39b"
      }
    },
    {
      "cell_type": "code",
      "source": [
        "# import files\n",
        "from google.colab import files\n",
        "uploaded = files.upload()"
      ],
      "metadata": {
        "id": "5Ep_cpDmlhY8",
        "colab": {
          "base_uri": "https://localhost:8080/",
          "height": 73
        },
        "outputId": "92fda68b-cc61-44c3-9032-28c09ec35045"
      },
      "execution_count": null,
      "outputs": [
        {
          "output_type": "display_data",
          "data": {
            "text/plain": [
              "<IPython.core.display.HTML object>"
            ],
            "text/html": [
              "\n",
              "     <input type=\"file\" id=\"files-5b560a07-de27-40f9-91dd-839eafe98d3b\" name=\"files[]\" multiple disabled\n",
              "        style=\"border:none\" />\n",
              "     <output id=\"result-5b560a07-de27-40f9-91dd-839eafe98d3b\">\n",
              "      Upload widget is only available when the cell has been executed in the\n",
              "      current browser session. Please rerun this cell to enable.\n",
              "      </output>\n",
              "      <script>// Copyright 2017 Google LLC\n",
              "//\n",
              "// Licensed under the Apache License, Version 2.0 (the \"License\");\n",
              "// you may not use this file except in compliance with the License.\n",
              "// You may obtain a copy of the License at\n",
              "//\n",
              "//      http://www.apache.org/licenses/LICENSE-2.0\n",
              "//\n",
              "// Unless required by applicable law or agreed to in writing, software\n",
              "// distributed under the License is distributed on an \"AS IS\" BASIS,\n",
              "// WITHOUT WARRANTIES OR CONDITIONS OF ANY KIND, either express or implied.\n",
              "// See the License for the specific language governing permissions and\n",
              "// limitations under the License.\n",
              "\n",
              "/**\n",
              " * @fileoverview Helpers for google.colab Python module.\n",
              " */\n",
              "(function(scope) {\n",
              "function span(text, styleAttributes = {}) {\n",
              "  const element = document.createElement('span');\n",
              "  element.textContent = text;\n",
              "  for (const key of Object.keys(styleAttributes)) {\n",
              "    element.style[key] = styleAttributes[key];\n",
              "  }\n",
              "  return element;\n",
              "}\n",
              "\n",
              "// Max number of bytes which will be uploaded at a time.\n",
              "const MAX_PAYLOAD_SIZE = 100 * 1024;\n",
              "\n",
              "function _uploadFiles(inputId, outputId) {\n",
              "  const steps = uploadFilesStep(inputId, outputId);\n",
              "  const outputElement = document.getElementById(outputId);\n",
              "  // Cache steps on the outputElement to make it available for the next call\n",
              "  // to uploadFilesContinue from Python.\n",
              "  outputElement.steps = steps;\n",
              "\n",
              "  return _uploadFilesContinue(outputId);\n",
              "}\n",
              "\n",
              "// This is roughly an async generator (not supported in the browser yet),\n",
              "// where there are multiple asynchronous steps and the Python side is going\n",
              "// to poll for completion of each step.\n",
              "// This uses a Promise to block the python side on completion of each step,\n",
              "// then passes the result of the previous step as the input to the next step.\n",
              "function _uploadFilesContinue(outputId) {\n",
              "  const outputElement = document.getElementById(outputId);\n",
              "  const steps = outputElement.steps;\n",
              "\n",
              "  const next = steps.next(outputElement.lastPromiseValue);\n",
              "  return Promise.resolve(next.value.promise).then((value) => {\n",
              "    // Cache the last promise value to make it available to the next\n",
              "    // step of the generator.\n",
              "    outputElement.lastPromiseValue = value;\n",
              "    return next.value.response;\n",
              "  });\n",
              "}\n",
              "\n",
              "/**\n",
              " * Generator function which is called between each async step of the upload\n",
              " * process.\n",
              " * @param {string} inputId Element ID of the input file picker element.\n",
              " * @param {string} outputId Element ID of the output display.\n",
              " * @return {!Iterable<!Object>} Iterable of next steps.\n",
              " */\n",
              "function* uploadFilesStep(inputId, outputId) {\n",
              "  const inputElement = document.getElementById(inputId);\n",
              "  inputElement.disabled = false;\n",
              "\n",
              "  const outputElement = document.getElementById(outputId);\n",
              "  outputElement.innerHTML = '';\n",
              "\n",
              "  const pickedPromise = new Promise((resolve) => {\n",
              "    inputElement.addEventListener('change', (e) => {\n",
              "      resolve(e.target.files);\n",
              "    });\n",
              "  });\n",
              "\n",
              "  const cancel = document.createElement('button');\n",
              "  inputElement.parentElement.appendChild(cancel);\n",
              "  cancel.textContent = 'Cancel upload';\n",
              "  const cancelPromise = new Promise((resolve) => {\n",
              "    cancel.onclick = () => {\n",
              "      resolve(null);\n",
              "    };\n",
              "  });\n",
              "\n",
              "  // Wait for the user to pick the files.\n",
              "  const files = yield {\n",
              "    promise: Promise.race([pickedPromise, cancelPromise]),\n",
              "    response: {\n",
              "      action: 'starting',\n",
              "    }\n",
              "  };\n",
              "\n",
              "  cancel.remove();\n",
              "\n",
              "  // Disable the input element since further picks are not allowed.\n",
              "  inputElement.disabled = true;\n",
              "\n",
              "  if (!files) {\n",
              "    return {\n",
              "      response: {\n",
              "        action: 'complete',\n",
              "      }\n",
              "    };\n",
              "  }\n",
              "\n",
              "  for (const file of files) {\n",
              "    const li = document.createElement('li');\n",
              "    li.append(span(file.name, {fontWeight: 'bold'}));\n",
              "    li.append(span(\n",
              "        `(${file.type || 'n/a'}) - ${file.size} bytes, ` +\n",
              "        `last modified: ${\n",
              "            file.lastModifiedDate ? file.lastModifiedDate.toLocaleDateString() :\n",
              "                                    'n/a'} - `));\n",
              "    const percent = span('0% done');\n",
              "    li.appendChild(percent);\n",
              "\n",
              "    outputElement.appendChild(li);\n",
              "\n",
              "    const fileDataPromise = new Promise((resolve) => {\n",
              "      const reader = new FileReader();\n",
              "      reader.onload = (e) => {\n",
              "        resolve(e.target.result);\n",
              "      };\n",
              "      reader.readAsArrayBuffer(file);\n",
              "    });\n",
              "    // Wait for the data to be ready.\n",
              "    let fileData = yield {\n",
              "      promise: fileDataPromise,\n",
              "      response: {\n",
              "        action: 'continue',\n",
              "      }\n",
              "    };\n",
              "\n",
              "    // Use a chunked sending to avoid message size limits. See b/62115660.\n",
              "    let position = 0;\n",
              "    do {\n",
              "      const length = Math.min(fileData.byteLength - position, MAX_PAYLOAD_SIZE);\n",
              "      const chunk = new Uint8Array(fileData, position, length);\n",
              "      position += length;\n",
              "\n",
              "      const base64 = btoa(String.fromCharCode.apply(null, chunk));\n",
              "      yield {\n",
              "        response: {\n",
              "          action: 'append',\n",
              "          file: file.name,\n",
              "          data: base64,\n",
              "        },\n",
              "      };\n",
              "\n",
              "      let percentDone = fileData.byteLength === 0 ?\n",
              "          100 :\n",
              "          Math.round((position / fileData.byteLength) * 100);\n",
              "      percent.textContent = `${percentDone}% done`;\n",
              "\n",
              "    } while (position < fileData.byteLength);\n",
              "  }\n",
              "\n",
              "  // All done.\n",
              "  yield {\n",
              "    response: {\n",
              "      action: 'complete',\n",
              "    }\n",
              "  };\n",
              "}\n",
              "\n",
              "scope.google = scope.google || {};\n",
              "scope.google.colab = scope.google.colab || {};\n",
              "scope.google.colab._files = {\n",
              "  _uploadFiles,\n",
              "  _uploadFilesContinue,\n",
              "};\n",
              "})(self);\n",
              "</script> "
            ]
          },
          "metadata": {}
        },
        {
          "output_type": "stream",
          "name": "stdout",
          "text": [
            "Saving worldcitiespop.csv to worldcitiespop.csv\n"
          ]
        }
      ]
    },
    {
      "cell_type": "markdown",
      "source": [
        "## Problem 2 Sparkifying world cities"
      ],
      "metadata": {
        "id": "m3vqqkiPlRaN"
      }
    },
    {
      "cell_type": "code",
      "source": [
        "# Install pyspark\n",
        "!pip install pyspark"
      ],
      "metadata": {
        "id": "oFfjE2xelYhg",
        "colab": {
          "base_uri": "https://localhost:8080/"
        },
        "outputId": "d7f94fb8-7315-4b08-b15b-c8c48653fc92"
      },
      "execution_count": null,
      "outputs": [
        {
          "output_type": "stream",
          "name": "stdout",
          "text": [
            "Collecting pyspark\n",
            "  Downloading pyspark-3.5.0.tar.gz (316.9 MB)\n",
            "\u001b[2K     \u001b[90m━━━━━━━━━━━━━━━━━━━━━━━━━━━━━━━━━━━━━━━━\u001b[0m \u001b[32m316.9/316.9 MB\u001b[0m \u001b[31m3.3 MB/s\u001b[0m eta \u001b[36m0:00:00\u001b[0m\n",
            "\u001b[?25h  Preparing metadata (setup.py) ... \u001b[?25l\u001b[?25hdone\n",
            "Requirement already satisfied: py4j==0.10.9.7 in /usr/local/lib/python3.10/dist-packages (from pyspark) (0.10.9.7)\n",
            "Building wheels for collected packages: pyspark\n",
            "  Building wheel for pyspark (setup.py) ... \u001b[?25l\u001b[?25hdone\n",
            "  Created wheel for pyspark: filename=pyspark-3.5.0-py2.py3-none-any.whl size=317425345 sha256=b65a80a41351ed03239144d3f05eb96528b43faf9864ed39c88cbd4af6a42304\n",
            "  Stored in directory: /root/.cache/pip/wheels/41/4e/10/c2cf2467f71c678cfc8a6b9ac9241e5e44a01940da8fbb17fc\n",
            "Successfully built pyspark\n",
            "Installing collected packages: pyspark\n",
            "Successfully installed pyspark-3.5.0\n"
          ]
        }
      ]
    },
    {
      "cell_type": "code",
      "source": [
        "# Check the pyspark version\n",
        "import pyspark\n",
        "print(pyspark.__version__)"
      ],
      "metadata": {
        "id": "oCWVCManleRu",
        "colab": {
          "base_uri": "https://localhost:8080/"
        },
        "outputId": "e0b3e7da-7fa3-4c0f-e85c-1c6f451655b3"
      },
      "execution_count": null,
      "outputs": [
        {
          "output_type": "stream",
          "name": "stdout",
          "text": [
            "3.5.0\n"
          ]
        }
      ]
    },
    {
      "cell_type": "code",
      "source": [
        "# check if file can be read, count total lines\n",
        "import csv\n",
        "\n",
        "with open('worldcitiespop.csv', newline='') as csvfile:\n",
        "    reader = csv.reader(csvfile)\n",
        "    next(reader)  # skip the header row\n",
        "    print(sum(1 for row in reader))"
      ],
      "metadata": {
        "colab": {
          "base_uri": "https://localhost:8080/"
        },
        "id": "RNjhQJG5lWmS",
        "outputId": "a6ed7089-867f-44b9-ecd7-d0616960657b"
      },
      "execution_count": null,
      "outputs": [
        {
          "output_type": "stream",
          "name": "stdout",
          "text": [
            "3173958\n"
          ]
        }
      ]
    },
    {
      "cell_type": "code",
      "source": [
        "from pyspark.sql.functions import col\n",
        "from pyspark.sql import SparkSession\n",
        "from pyspark import SparkContext\n",
        "import numpy as np\n",
        "\n",
        "\n",
        "spark = SparkSession.builder.appName(\"MyName\").getOrCreate()\n",
        "\n",
        "filepath = 'worldcitiespop.csv'\n",
        "\n",
        "df = spark.read.csv(filepath, header=True, inferSchema=True)\n",
        "\n",
        "# Print the schema of the DataFrame\n",
        "df.printSchema()\n",
        "\n",
        "dfNew = df.filter(col(df.columns[4]).isNotNull())\n",
        "\n",
        "print(dfNew.count())\n",
        "#print(df.count())"
      ],
      "metadata": {
        "colab": {
          "base_uri": "https://localhost:8080/"
        },
        "id": "OjqoRzJ2k4WV",
        "outputId": "94746ac4-7d41-42f1-e4c3-d01bdaf9d6e8"
      },
      "execution_count": null,
      "outputs": [
        {
          "output_type": "stream",
          "name": "stdout",
          "text": [
            "root\n",
            " |-- Country: string (nullable = true)\n",
            " |-- City: string (nullable = true)\n",
            " |-- AccentCity: string (nullable = true)\n",
            " |-- Region: string (nullable = true)\n",
            " |-- Population: integer (nullable = true)\n",
            " |-- Latitude: double (nullable = true)\n",
            " |-- Longitude: double (nullable = true)\n",
            "\n",
            "47980\n"
          ]
        }
      ]
    },
    {
      "cell_type": "code",
      "source": [
        "from pyspark.sql.functions import sum, min, max, avg\n",
        "\n",
        "dfNew.select(sum(dfNew[\"population\"])).show()\n",
        "dfNew.select(min(dfNew[\"population\"])).show()\n",
        "dfNew.select(max(dfNew[\"population\"])).show()\n",
        "dfNew.select(avg(dfNew[\"population\"])).show()\n"
      ],
      "metadata": {
        "colab": {
          "base_uri": "https://localhost:8080/"
        },
        "id": "_77UGb3b3o2c",
        "outputId": "739228bd-fd08-497c-c480-e346e556bcfb"
      },
      "execution_count": null,
      "outputs": [
        {
          "output_type": "stream",
          "name": "stdout",
          "text": [
            "+---------------+\n",
            "|sum(population)|\n",
            "+---------------+\n",
            "|     2289584999|\n",
            "+---------------+\n",
            "\n",
            "+---------------+\n",
            "|min(population)|\n",
            "+---------------+\n",
            "|              7|\n",
            "+---------------+\n",
            "\n",
            "+---------------+\n",
            "|max(population)|\n",
            "+---------------+\n",
            "|       31480498|\n",
            "+---------------+\n",
            "\n",
            "+-----------------+\n",
            "|  avg(population)|\n",
            "+-----------------+\n",
            "|47719.57063359733|\n",
            "+-----------------+\n",
            "\n"
          ]
        }
      ]
    },
    {
      "cell_type": "code",
      "source": [
        "# count per 10 power\n",
        "\n",
        "from pyspark.sql.functions import log10, floor\n",
        "\n",
        "# Round each integer down to its nearest power of 10\n",
        "dfNew = dfNew.withColumn(\"rounded_value\", floor(log10(dfNew['Population'])))\n",
        "\n",
        "# Group the DataFrame by the rounded values and count the number of occurrences of each value\n",
        "counts = dfNew.groupBy(\"rounded_value\").count()\n",
        "\n",
        "# Print the counts to the console\n",
        "print(counts.orderBy(\"rounded_value\").show())"
      ],
      "metadata": {
        "colab": {
          "base_uri": "https://localhost:8080/"
        },
        "id": "TgLaW1Sd7pvM",
        "outputId": "8e20c158-723b-4fec-8e91-851cba4ffae3"
      },
      "execution_count": null,
      "outputs": [
        {
          "output_type": "stream",
          "name": "stdout",
          "text": [
            "+-------------+-----+\n",
            "|rounded_value|count|\n",
            "+-------------+-----+\n",
            "|            0|    5|\n",
            "|            1|  174|\n",
            "|            2| 2187|\n",
            "|            3|20537|\n",
            "|            4|21550|\n",
            "|            5| 3248|\n",
            "|            6|  269|\n",
            "|            7|   10|\n",
            "+-------------+-----+\n",
            "\n",
            "None\n"
          ]
        }
      ]
    },
    {
      "cell_type": "code",
      "source": [
        "from pyspark.sql.functions import desc\n",
        "\n",
        "# Sort the dataframe by the \"Population\" column in descending order\n",
        "sorted_df = dfNew.orderBy(desc(\"Population\"))\n",
        "\n",
        "# Select the top 10 cities with the largest population\n",
        "top_10_cities = sorted_df.limit(10)\n",
        "\n",
        "# Display the results\n",
        "top_10_cities.show()\n",
        "\n"
      ],
      "metadata": {
        "colab": {
          "base_uri": "https://localhost:8080/"
        },
        "id": "cswfkZZT9UAt",
        "outputId": "b4c1c6a5-3de8-4a6c-8964-0302a172d2ed"
      },
      "execution_count": null,
      "outputs": [
        {
          "output_type": "stream",
          "name": "stdout",
          "text": [
            "+-------+---------+----------+------+----------+----------+----------+-------------+\n",
            "|Country|     City|AccentCity|Region|Population|  Latitude| Longitude|rounded_value|\n",
            "+-------+---------+----------+------+----------+----------+----------+-------------+\n",
            "|     jp|    tokyo|     Tokyo|    40|  31480498|    35.685|139.751389|            7|\n",
            "|     cn| shanghai|  Shanghai|    23|  14608512| 31.045556|121.399722|            7|\n",
            "|     in|   bombay|    Bombay|    16|  12692717|    18.975| 72.825833|            7|\n",
            "|     pk|  karachi|   Karachi|    05|  11627378|   24.9056|   67.0822|            7|\n",
            "|     in|    delhi|     Delhi|    07|  10928270| 28.666667| 77.216667|            7|\n",
            "|     in|new delhi| New Delhi|    07|  10928270|      28.6|      77.2|            7|\n",
            "|     ph|   manila|    Manila|    D9|  10443877|   14.6042|  120.9822|            7|\n",
            "|     ru|   moscow|    Moscow|    48|  10381288| 55.752222| 37.615556|            7|\n",
            "|     kr|    seoul|     Seoul|    11|  10323448|   37.5985|  126.9783|            7|\n",
            "|     br|sao paulo| São Paulo|    27|  10021437|-23.473293|-46.665803|            7|\n",
            "+-------+---------+----------+------+----------+----------+----------+-------------+\n",
            "\n"
          ]
        }
      ]
    },
    {
      "cell_type": "code",
      "source": [
        "from pyspark.sql.functions import sum, col\n",
        "\n",
        "totalPop = dfNew.select(sum(dfNew[\"population\"])).first()[0]\n",
        "\n",
        "top10Pop = 0\n",
        "for row in top_10_cities.collect():\n",
        "  top10Pop += row[\"Population\"]\n",
        "\n",
        "print(top10Pop/totalPop)"
      ],
      "metadata": {
        "colab": {
          "base_uri": "https://localhost:8080/"
        },
        "id": "q2JaTgWE-j7h",
        "outputId": "c7bff9cb-5f9a-450c-ad74-6cac54c747a5"
      },
      "execution_count": null,
      "outputs": [
        {
          "output_type": "stream",
          "name": "stdout",
          "text": [
            "0.05827942402587343\n"
          ]
        }
      ]
    },
    {
      "cell_type": "code",
      "source": [
        "from pyspark.sql.functions import sum, desc\n",
        "\n",
        "import numpy as np\n",
        "\n",
        "# Group the dataframe by the \"region\" column and calculate the sum of the \"population\" column\n",
        "region_populations = dfNew.groupBy(\"region\").agg(sum(\"population\").alias(\"total_population\"))\n",
        "\n",
        "# Sort the dataframe by the \"total_population\" column in descending order\n",
        "sorted_regions = region_populations.orderBy(desc(\"total_population\"))\n",
        "\n",
        "sorted_regions.show()\n",
        "\n",
        "# Select the region with the highest population\n",
        "highest_population_region = sorted_regions.select(\"region\").first()[0]\n",
        "\n",
        "# Display the results\n",
        "print(\"The region with the highest population is {}.\".format(highest_population_region))\n"
      ],
      "metadata": {
        "colab": {
          "base_uri": "https://localhost:8080/"
        },
        "id": "0QJbSGpWBSUq",
        "outputId": "9bc0e390-f52f-4def-afd1-8c44f18763a7"
      },
      "execution_count": null,
      "outputs": [
        {
          "output_type": "stream",
          "name": "stdout",
          "text": [
            "+------+----------------+\n",
            "|region|total_population|\n",
            "+------+----------------+\n",
            "|    04|       112249869|\n",
            "|    07|        99634521|\n",
            "|    02|        90271668|\n",
            "|    05|        88272385|\n",
            "|    16|        71422264|\n",
            "|    08|        69386610|\n",
            "|    09|        68742631|\n",
            "|    11|        61477197|\n",
            "|    01|        60187116|\n",
            "|    06|        58191980|\n",
            "|    15|        57366367|\n",
            "|    10|        52912641|\n",
            "|    13|        50762945|\n",
            "|    19|        49067537|\n",
            "|    23|        48056875|\n",
            "|    30|        47565528|\n",
            "|    25|        44541463|\n",
            "|    12|        44192013|\n",
            "|    40|        43122879|\n",
            "|    27|        42540035|\n",
            "+------+----------------+\n",
            "only showing top 20 rows\n",
            "\n",
            "The region with the highest population is 04.\n"
          ]
        }
      ]
    },
    {
      "cell_type": "code",
      "source": [
        "from pyspark.sql.functions import sum\n",
        "\n",
        "# Group the dataframe by the \"Country\" column and calculate the sum of the \"Population\" column\n",
        "country_populations = dfNew.groupBy(\"Country\").agg(sum(\"Population\").alias(\"total_population\"))\n",
        "\n",
        "# Filter the dataframe to include only the countries where the total population is greater than the specified value\n",
        "specified_value = 10000000\n",
        "filtered_countries = country_populations.filter(country_populations[\"total_population\"] > specified_value)\n",
        "\n",
        "# Display the results\n",
        "print(filtered_countries.count())\n",
        "\n",
        "for row in filtered_countries.collect():\n",
        "    print(row[\"Country\"])\n"
      ],
      "metadata": {
        "colab": {
          "base_uri": "https://localhost:8080/"
        },
        "id": "T4StTtmyBdKh",
        "outputId": "48c6aecd-2867-47d0-b893-8948d2aae9f2"
      },
      "execution_count": null,
      "outputs": [
        {
          "output_type": "stream",
          "name": "stdout",
          "text": [
            "41\n",
            "eg\n",
            "cl\n",
            "jp\n",
            "cn\n",
            "bd\n",
            "ir\n",
            "in\n",
            "au\n",
            "gb\n",
            "cd\n",
            "co\n",
            "de\n",
            "br\n",
            "es\n",
            "kr\n",
            "it\n",
            "ar\n",
            "ca\n",
            "fr\n",
            "id\n",
            "us\n",
            "ro\n",
            "vn\n",
            "pl\n",
            "za\n",
            "pk\n",
            "tw\n",
            "tr\n",
            "pe\n",
            "ph\n",
            "nl\n",
            "ve\n",
            "my\n",
            "ru\n",
            "th\n",
            "ng\n",
            "ma\n",
            "mm\n",
            "ua\n",
            "mx\n",
            "tz\n"
          ]
        }
      ]
    },
    {
      "cell_type": "code",
      "source": [
        "from pyspark.sql.functions import avg, col\n",
        "\n",
        "# Define the threshold population\n",
        "threshold_population = 1000000\n",
        "\n",
        "# Filter the dataframe to include only cities with a population above the threshold\n",
        "filtered_cities = dfNew.filter(df[\"Population\"] > threshold_population)\n",
        "\n",
        "# Group the dataframe by the \"Country\" column and calculate the average of the \"Population\" column\n",
        "average_populations = filtered_cities.groupBy(\"Country\").agg(avg(\"Population\").alias(\"average_population\"))\n",
        "\n",
        "# Display the results\n",
        "\n",
        "print(average_populations.count())\n",
        "\n",
        "for row in average_populations.collect():\n",
        "    print(\"{}: {}\".format(row[\"Country\"], row[\"average_population\"]))\n"
      ],
      "metadata": {
        "colab": {
          "base_uri": "https://localhost:8080/"
        },
        "id": "QT3mzZgMCGqM",
        "outputId": "55258eab-50fb-410f-d0dc-e84062dc6442"
      },
      "execution_count": null,
      "outputs": [
        {
          "output_type": "stream",
          "name": "stdout",
          "text": [
            "89\n",
            "eg: 4663201.333333333\n",
            "ge: 1049516.0\n",
            "cl: 4837248.0\n",
            "jp: 6454776.666666667\n",
            "ao: 2776125.0\n",
            "by: 1742123.0\n",
            "cn: 2486771.717948718\n",
            "bd: 3917803.0\n",
            "ir: 1498211.1666666667\n",
            "ke: 2750561.0\n",
            "kh: 1573523.0\n",
            "in: 2921454.909090909\n",
            "au: 2497827.8\n",
            "ae: 1137376.0\n",
            "iq: 5672516.0\n",
            "be: 1019022.0\n",
            "gb: 7421228.0\n",
            "cd: 4581320.0\n",
            "ec: 1675921.5\n",
            "ci: 3692570.0\n",
            "co: 3218984.25\n",
            "de: 2126113.6666666665\n",
            "br: 2513657.2666666666\n",
            "es: 2336511.0\n",
            "kr: 10323448.0\n",
            "af: 3043589.0\n",
            "it: 1900319.5\n",
            "ar: 1329752.0\n",
            "hu: 1708088.0\n",
            "ca: 3239556.6666666665\n",
            "cm: 1318795.0\n",
            "gh: 1716128.5\n",
            "do: 2202016.0\n",
            "ht: 1234750.0\n",
            "bg: 1062065.0\n",
            "at: 1569315.0\n",
            "dz: 1980242.0\n",
            "cz: 1154508.0\n",
            "kz: 1204820.0\n",
            "az: 1116513.0\n",
            "et: 2757807.0\n",
            "gn: 1871185.0\n",
            "bf: 1031330.0\n",
            "am: 1093499.0\n",
            "fr: 2110694.0\n",
            "ie: 1024027.0\n",
            "dk: 1089958.0\n",
            "id: 2230820.9\n",
            "cg: 1115773.0\n",
            "mz: 1191613.0\n",
            "us: 2610227.777777778\n",
            "ro: 1877155.0\n",
            "sl: 1190761.0\n",
            "uz: 1978078.0\n",
            "vn: 2110060.0\n",
            "pl: 1651676.0\n",
            "za: 2378977.8\n",
            "ni: 1140499.0\n",
            "pk: 3452432.0\n",
            "sg: 3547809.0\n",
            "tw: 1656010.0\n",
            "zm: 1267458.0\n",
            "mg: 1391506.0\n",
            "sa: 2404892.3333333335\n",
            "tr: 3258055.6666666665\n",
            "sd: 2392554.0\n",
            "zw: 2213701.0\n",
            "rs: 1115200.0\n",
            "uy: 1305865.0\n",
            "pe: 7646786.0\n",
            "ph: 5828081.0\n",
            "ly: 1150990.0\n",
            "ve: 1716384.0\n",
            "my: 1453978.0\n",
            "ru: 2163475.4166666665\n",
            "ml: 1297390.0\n",
            "th: 5104475.0\n",
            "ng: 2992821.1428571427\n",
            "ma: 2221441.0\n",
            "sn: 2702820.0\n",
            "ug: 1353236.0\n",
            "sy: 1858360.5\n",
            "mm: 2843004.5\n",
            "ua: 1757890.0\n",
            "mx: 2201073.0\n",
            "so: 2590180.0\n",
            "tz: 2698651.0\n",
            "se: 1253309.0\n",
            "lb: 1252010.0\n"
          ]
        }
      ]
    },
    {
      "cell_type": "code",
      "source": [
        "from pyspark.sql.functions import avg, col\n",
        "from pyspark.sql.window import Window\n",
        "\n",
        "# Define the threshold population\n",
        "threshold_population = 1000000\n",
        "\n",
        "# Calculate the average population for each country using a window function\n",
        "window = Window.partitionBy(\"Country\")\n",
        "average_population = avg(col(\"Population\")).over(window)\n",
        "\n",
        "# Use a subquery to filter the cities with a population above the average population of their respective countries\n",
        "subquery = dfNew.select(\"*\", average_population.alias(\"avg_population\")).where(col(\"Population\") > col(\"avg_population\"))\n",
        "\n",
        "# Filter the results in the outer query to include only cities with a population above the specified threshold\n",
        "filtered_cities = subquery.filter(col(\"Population\") > threshold_population)\n",
        "\n",
        "# Display the results\n",
        "print(filtered_cities.count())\n",
        "\n",
        "filtered_cities.show()\n",
        "\n",
        "\n",
        "\"\"\"\n",
        "for row in filtered_cities.collect():\n",
        "    print(\"{} ,{}, {}\".format(row[\"Country\"], row[\"City\"], row[\"Population\"]))\n",
        "\"\"\""
      ],
      "metadata": {
        "colab": {
          "base_uri": "https://localhost:8080/",
          "height": 504
        },
        "id": "vr-KlLyGCt18",
        "outputId": "b7f74bb1-a852-4565-87aa-17a6c9ce3fa6"
      },
      "execution_count": null,
      "outputs": [
        {
          "output_type": "stream",
          "name": "stdout",
          "text": [
            "277\n",
            "+-------+--------------+--------------+------+----------+----------+----------+-------------+------------------+\n",
            "|Country|          City|    AccentCity|Region|Population|  Latitude| Longitude|rounded_value|    avg_population|\n",
            "+-------+--------------+--------------+------+----------+----------+----------+-------------+------------------+\n",
            "|     ae|         dubai|         Dubai|    03|   1137376| 25.258172| 55.304717|            6| 761668.3333333334|\n",
            "|     ao|        luanda|        Luanda|    20|   2776125| -8.836804| 13.233174|            6|      134849.40625|\n",
            "|     au|      adelaide|      Adelaide|    05|   1074168|-34.928661|138.598633|            6| 94962.11229946524|\n",
            "|     au|      brisbane|      Brisbane|    04|   1843459| -27.47101|153.024292|            6| 94962.11229946524|\n",
            "|     au|     melbourne|     Melbourne|    07|   3730212|-37.813938|144.963425|            6| 94962.11229946524|\n",
            "|     au|         perth|         Perth|    08|   1446715| -31.95224|115.861397|            6| 94962.11229946524|\n",
            "|     au|        sydney|        Sydney|    02|   4394585|-33.861481|151.205475|            6| 94962.11229946524|\n",
            "|     bd|         dhaka|         Dhaka|    81|   6493177|23.7230556|90.4086111|            6| 175204.9642857143|\n",
            "|     bd|        khulna|        Khulna|    82|   1342429|      22.8|     89.55|            6| 175204.9642857143|\n",
            "|     be|      brussels|      Brussels|    11|   1019022| 50.833333|  4.333333|            6|19224.081510934393|\n",
            "|     br|         belem|         Belém|    16|   1407737|     -1.45|-48.483333|            6| 66162.57858205255|\n",
            "|     br|belo horizonte|Belo Horizonte|    15|   2373255|-19.916667|-43.933333|            6| 66162.57858205255|\n",
            "|     br|      brasilia|      Brasília|    07|   2207812|-15.783333|-47.916667|            6| 66162.57858205255|\n",
            "|     br|      campinas|      Campinas|    27|   1031573|     -22.9|-47.083333|            6| 66162.57858205255|\n",
            "|     br|      curitiba|      Curitiba|    18|   1718433|-25.416667|    -49.25|            6| 66162.57858205255|\n",
            "|     br|     fortaleza|     Fortaleza|    06|   2416920| -3.316667|-41.416667|            6| 66162.57858205255|\n",
            "|     br|       goiania|       Goiânia|    29|   1171209|-16.666667|-49.266667|            6| 66162.57858205255|\n",
            "|     br|     guarulhos|     Guarulhos|    27|   1169601| -23.45068|-46.526175|            6| 66162.57858205255|\n",
            "|     br|        manaus|        Manaus|    04|   1598227| -3.113333|-60.025278|            6| 66162.57858205255|\n",
            "|     br|   nova iguacu|   Nova Iguaçu|    21|   1002129|-22.759188|-43.431887|            6| 66162.57858205255|\n",
            "+-------+--------------+--------------+------+----------+----------+----------+-------------+------------------+\n",
            "only showing top 20 rows\n",
            "\n"
          ]
        },
        {
          "output_type": "execute_result",
          "data": {
            "text/plain": [
              "'\\nfor row in filtered_cities.collect():\\n    print(\"{} ,{}, {}\".format(row[\"Country\"], row[\"City\"], row[\"Population\"]))\\n'"
            ],
            "application/vnd.google.colaboratory.intrinsic+json": {
              "type": "string"
            }
          },
          "metadata": {},
          "execution_count": 107
        }
      ]
    },
    {
      "cell_type": "code",
      "source": [
        "from pyspark.sql.functions import desc\n",
        "\n",
        "dfNoDuplicate = dfNew.dropDuplicates([\"Country\", \"Region\", \"Population\"])\n",
        "\n",
        "sortedDf = dfNoDuplicate.orderBy(desc(\"Population\"))\n",
        "\n",
        "sortedDf.show()\n",
        "\n",
        "print(sortedDf.count())\n",
        "print(dfNew.count())"
      ],
      "metadata": {
        "colab": {
          "base_uri": "https://localhost:8080/"
        },
        "id": "m79P5RevD6dR",
        "outputId": "e11d1538-4859-4055-a743-d1b50c274d57"
      },
      "execution_count": null,
      "outputs": [
        {
          "output_type": "stream",
          "name": "stdout",
          "text": [
            "+-------+---------+----------+------+----------+----------+-----------+-------------+\n",
            "|Country|     City|AccentCity|Region|Population|  Latitude|  Longitude|rounded_value|\n",
            "+-------+---------+----------+------+----------+----------+-----------+-------------+\n",
            "|     jp|    tokyo|     Tokyo|    40|  31480498|    35.685| 139.751389|            7|\n",
            "|     cn| shanghai|  Shanghai|    23|  14608512| 31.045556| 121.399722|            7|\n",
            "|     in|   bombay|    Bombay|    16|  12692717|    18.975|  72.825833|            7|\n",
            "|     pk|  karachi|   Karachi|    05|  11627378|   24.9056|    67.0822|            7|\n",
            "|     in|    delhi|     Delhi|    07|  10928270| 28.666667|  77.216667|            7|\n",
            "|     ph|   manila|    Manila|    D9|  10443877|   14.6042|   120.9822|            7|\n",
            "|     ru|   moscow|    Moscow|    48|  10381288| 55.752222|  37.615556|            7|\n",
            "|     kr|    seoul|     Seoul|    11|  10323448|   37.5985|   126.9783|            7|\n",
            "|     br|sao paulo| São Paulo|    27|  10021437|-23.473293| -46.665803|            7|\n",
            "|     tr| istanbul|  Istanbul|    34|   9797536| 41.018611|  28.964722|            6|\n",
            "|     ng|    lagos|     Lagos|    05|   8789133|  6.453056|   3.395833|            6|\n",
            "|     mx|   mexico|    Mexico|    09|   8720916| 19.434167| -99.138611|            6|\n",
            "|     id|  jakarta|   Jakarta|    04|   8540306| -6.174444| 106.829444|            6|\n",
            "|     us| new york|  New York|    NY|   8107916|40.7141667|-74.0063889|            6|\n",
            "|     cd| kinshasa|  Kinshasa|    06|   7787832|      -4.3|       15.3|            6|\n",
            "|     eg|    cairo|     Cairo|    11|   7734602|     30.05|      31.25|            6|\n",
            "|     pe|     lima|      Lima|    15|   7646786|    -12.05|     -77.05|            6|\n",
            "|     cn|   peking|    Peking|    22|   7480601| 39.928889| 116.388333|            6|\n",
            "|     gb|   london|    London|    H9|   7421228| 51.514125|  -0.093689|            6|\n",
            "|     co|   bogota|    Bogotá|    34|   7102602|  4.649178| -74.062827|            6|\n",
            "+-------+---------+----------+------+----------+----------+-----------+-------------+\n",
            "only showing top 20 rows\n",
            "\n",
            "47736\n",
            "47980\n"
          ]
        }
      ]
    }
  ]
}